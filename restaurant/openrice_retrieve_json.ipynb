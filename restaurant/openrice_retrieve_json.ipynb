{
 "cells": [
  {
   "cell_type": "code",
   "execution_count": 2,
   "metadata": {},
   "outputs": [],
   "source": [
    "import requests\n",
    "from bs4 import BeautifulSoup\n",
    "import re\n",
    "import pandas as pd\n",
    "from tqdm import tqdm\n",
    "import json"
   ]
  },
  {
   "cell_type": "code",
   "execution_count": 3,
   "metadata": {},
   "outputs": [],
   "source": [
    "with open('data.json') as f:\n",
    "    data = json.load(f)"
   ]
  },
  {
   "cell_type": "code",
   "execution_count": 2,
   "metadata": {},
   "outputs": [],
   "source": [
    "df = pd.DataFrame(columns =['name','review','bookmark','smile','sad','address','district','cuisine','dish'])"
   ]
  },
  {
   "cell_type": "code",
   "execution_count": 236,
   "metadata": {},
   "outputs": [],
   "source": [
    "for k in range(len(data)):\n",
    "    soup = BeautifulSoup(data[str(k)], \"html.parser\")\n",
    "    for i in range(len(soup.find_all(class_='title-name'))):\n",
    "        rest = {}\n",
    "        rest['name'] = soup.find_all(class_='title-name')[i].text.strip()\n",
    "        review = soup.find_all(class_=\"counters-container\")[i].text.strip()\n",
    "        rest['review'] = int(*re.findall('\\d+', review))\n",
    "        rest['bookmark'] = soup.find_all(class_=\"text bookmarkedUserCount js-bookmark-count\")[i]['data-count']\n",
    "        rest['smile'] = soup.find_all(class_=\"emoticon-container smile-face pois-restaurant-list-cell-content-right-info-rating-happy\")[i].text.strip()\n",
    "        rest['sad'] = soup.find_all(class_=\"emoticon-container sad-face pois-restaurant-list-cell-content-right-info-rating-sad\")[i].text.strip()\n",
    "        rest['address'] = soup.find_all(class_='icon-info-wrapper')[i].find('span').find(text=True).strip()\n",
    "        rest['district'] = soup.find_all(class_='icon-info-wrapper')[i].find('a').text\n",
    "        rest['cuisine'] = soup.find_all(class_=\"icon-info icon-info-food-name\")[i].find_all('a')[0].text\n",
    "        rest['dish'] = soup.find_all(class_=\"icon-info icon-info-food-name\")[i].find_all('a')[1].text\n",
    "        df = df.append(rest, ignore_index=True)"
   ]
  },
  {
   "cell_type": "code",
   "execution_count": null,
   "metadata": {},
   "outputs": [],
   "source": [
    "df.to_csv('restaurant.csv')"
   ]
  },
  {
   "cell_type": "code",
   "execution_count": 3,
   "metadata": {},
   "outputs": [
    {
     "name": "stdout",
     "output_type": "stream",
     "text": [
      "[TerminalIPythonApp] WARNING | Subcommand `ipython nbconvert` is deprecated and will be removed in future versions.\n",
      "[TerminalIPythonApp] WARNING | You likely want to use `jupyter nbconvert` in the future\n",
      "[NbConvertApp] Converting notebook openrice_retrieve_json.ipynb to python\n",
      "[NbConvertApp] Writing 1647 bytes to openrice_retrieve_json.py\n"
     ]
    }
   ],
   "source": [
    "!ipython nbconvert --to=python openrice_retrieve_json.ipynb"
   ]
  },
  {
   "cell_type": "code",
   "execution_count": null,
   "metadata": {},
   "outputs": [],
   "source": []
  }
 ],
 "metadata": {
  "kernelspec": {
   "display_name": "Python 3",
   "language": "python",
   "name": "python3"
  },
  "language_info": {
   "codemirror_mode": {
    "name": "ipython",
    "version": 3
   },
   "file_extension": ".py",
   "mimetype": "text/x-python",
   "name": "python",
   "nbconvert_exporter": "python",
   "pygments_lexer": "ipython3",
   "version": "3.6.4"
  }
 },
 "nbformat": 4,
 "nbformat_minor": 2
}
