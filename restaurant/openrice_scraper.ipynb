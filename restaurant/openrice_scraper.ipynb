{
 "cells": [
  {
   "cell_type": "code",
   "execution_count": 1,
   "metadata": {},
   "outputs": [],
   "source": [
    "import requests\n",
    "from bs4 import BeautifulSoup\n",
    "import re\n",
    "import pandas as pd\n",
    "from tqdm import tqdm\n",
    "import json"
   ]
  },
  {
   "cell_type": "code",
   "execution_count": 3,
   "metadata": {},
   "outputs": [],
   "source": [
    "with open('data.json', 'w') as f:\n",
    "    json.dump({}, f)"
   ]
  },
  {
   "cell_type": "code",
   "execution_count": null,
   "metadata": {},
   "outputs": [],
   "source": [
    "#27,697 restaurants, as of March 5\n"
   ]
  },
  {
   "cell_type": "code",
   "execution_count": null,
   "metadata": {
    "scrolled": true
   },
   "outputs": [
    {
     "name": "stderr",
     "output_type": "stream",
     "text": [
      "  1%|          | 19/1843 [01:00<1:34:29,  3.11s/it]"
     ]
    }
   ],
   "source": [
    "data={}\n",
    "for j in tqdm(range(0,1847)):\n",
    "    url = \"https://www.openrice.com/en/hongkong/restaurants?sortBy=BookmarkedDesc&page=\"\n",
    "    page = j+1\n",
    "    headers = requests.utils.default_headers()\n",
    "    headers['User-Agent'] = 'Mozilla/5.0 (X11; Linux x86_64) AppleWebKit/537.36 (KHTML, like Gecko) Chrome/56.0.2924.87 Safari/537.36'\n",
    "    response = requests.get(url+page, headers=headers)\n",
    "    response = response.text\n",
    "    soup = BeautifulSoup(response, \"html.parser\")\n",
    "    \n",
    "    content = soup.find(class_='sr1-listing-content-cells pois-restaurant-list js-poi-list-content-cell-container')\n",
    "    \n",
    "    data[j] = content.prettify()\n",
    "    \n",
    "    if j % 10 == 0:\n",
    "        with open('data.json') as f:\n",
    "            file = json.load(f)\n",
    "\n",
    "        file.update(data)\n",
    "\n",
    "        with open('data.json', 'w') as f:\n",
    "            json.dump(file, f)\n",
    "            \n",
    "        data = {}"
   ]
  },
  {
   "cell_type": "code",
   "execution_count": 1,
   "metadata": {},
   "outputs": [
    {
     "name": "stdout",
     "output_type": "stream",
     "text": [
      "[TerminalIPythonApp] WARNING | Subcommand `ipython nbconvert` is deprecated and will be removed in future versions.\n",
      "[TerminalIPythonApp] WARNING | You likely want to use `jupyter nbconvert` in the future\n",
      "[NbConvertApp] Converting notebook openrice_scraper.ipynb to python\n",
      "[NbConvertApp] Writing 1200 bytes to openrice_scraper.py\n"
     ]
    }
   ],
   "source": [
    "!ipython nbconvert --to=python openrice_scraper.ipynb"
   ]
  },
  {
   "cell_type": "code",
   "execution_count": null,
   "metadata": {},
   "outputs": [],
   "source": []
  }
 ],
 "metadata": {
  "kernelspec": {
   "display_name": "Python 3",
   "language": "python",
   "name": "python3"
  },
  "language_info": {
   "codemirror_mode": {
    "name": "ipython",
    "version": 3
   },
   "file_extension": ".py",
   "mimetype": "text/x-python",
   "name": "python",
   "nbconvert_exporter": "python",
   "pygments_lexer": "ipython3",
   "version": "3.6.4"
  }
 },
 "nbformat": 4,
 "nbformat_minor": 2
}
