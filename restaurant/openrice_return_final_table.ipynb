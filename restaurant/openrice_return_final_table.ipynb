{
 "cells": [
  {
   "cell_type": "code",
   "execution_count": 1,
   "metadata": {},
   "outputs": [],
   "source": [
    "import pandas as pd\n",
    "import json"
   ]
  },
  {
   "cell_type": "code",
   "execution_count": 2,
   "metadata": {},
   "outputs": [],
   "source": [
    "df = pd.read_csv('restaurant_clean.csv', index_col = 0)"
   ]
  },
  {
   "cell_type": "code",
   "execution_count": 3,
   "metadata": {},
   "outputs": [
    {
     "data": {
      "text/html": [
       "<div>\n",
       "<style scoped>\n",
       "    .dataframe tbody tr th:only-of-type {\n",
       "        vertical-align: middle;\n",
       "    }\n",
       "\n",
       "    .dataframe tbody tr th {\n",
       "        vertical-align: top;\n",
       "    }\n",
       "\n",
       "    .dataframe thead th {\n",
       "        text-align: right;\n",
       "    }\n",
       "</style>\n",
       "<table border=\"1\" class=\"dataframe\">\n",
       "  <thead>\n",
       "    <tr style=\"text-align: right;\">\n",
       "      <th></th>\n",
       "      <th>name</th>\n",
       "      <th>review</th>\n",
       "      <th>bookmark</th>\n",
       "      <th>smile</th>\n",
       "      <th>sad</th>\n",
       "      <th>address</th>\n",
       "      <th>district</th>\n",
       "      <th>cuisine</th>\n",
       "      <th>dish</th>\n",
       "    </tr>\n",
       "  </thead>\n",
       "  <tbody>\n",
       "    <tr>\n",
       "      <th>0</th>\n",
       "      <td>Deluxe Daikiya Japanese Restaurant 極尚大喜屋日本料理</td>\n",
       "      <td>597</td>\n",
       "      <td>60355</td>\n",
       "      <td>445</td>\n",
       "      <td>23</td>\n",
       "      <td>Shop 102, 1/F, Albion Plaza, 2-6 Granville Road,</td>\n",
       "      <td>Tsim Sha Tsui</td>\n",
       "      <td>Japanese</td>\n",
       "      <td>Sushi/Sashimi</td>\n",
       "    </tr>\n",
       "    <tr>\n",
       "      <th>1</th>\n",
       "      <td>The Place</td>\n",
       "      <td>520</td>\n",
       "      <td>58751</td>\n",
       "      <td>260</td>\n",
       "      <td>76</td>\n",
       "      <td>Level L, Cordis, Hong Kong at Langham Place, 5...</td>\n",
       "      <td>Mong Kok</td>\n",
       "      <td>International</td>\n",
       "      <td>Seafood</td>\n",
       "    </tr>\n",
       "    <tr>\n",
       "      <th>2</th>\n",
       "      <td>LAB EAT Restaurant &amp; Bar</td>\n",
       "      <td>620</td>\n",
       "      <td>57442</td>\n",
       "      <td>475</td>\n",
       "      <td>31</td>\n",
       "      <td>Shop 1-2, G/F, Kiu Fung Mansion, 83-89 Kimberl...</td>\n",
       "      <td>Tsim Sha Tsui</td>\n",
       "      <td>Western</td>\n",
       "      <td>Seafood</td>\n",
       "    </tr>\n",
       "    <tr>\n",
       "      <th>3</th>\n",
       "      <td>Market Hotpot 鮮入圍煮</td>\n",
       "      <td>320</td>\n",
       "      <td>49070</td>\n",
       "      <td>224</td>\n",
       "      <td>24</td>\n",
       "      <td>2/F, Dundas Square, 43H Dundas Street,</td>\n",
       "      <td>Mong Kok</td>\n",
       "      <td>Guangdong</td>\n",
       "      <td>Hot Pot</td>\n",
       "    </tr>\n",
       "    <tr>\n",
       "      <th>4</th>\n",
       "      <td>Sky726</td>\n",
       "      <td>594</td>\n",
       "      <td>46832</td>\n",
       "      <td>442</td>\n",
       "      <td>41</td>\n",
       "      <td>25/F, 724-726 Nathan Road,</td>\n",
       "      <td>Mong Kok</td>\n",
       "      <td>French</td>\n",
       "      <td>Dessert</td>\n",
       "    </tr>\n",
       "  </tbody>\n",
       "</table>\n",
       "</div>"
      ],
      "text/plain": [
       "                                           name  review  bookmark  smile  sad  \\\n",
       "0  Deluxe Daikiya Japanese Restaurant 極尚大喜屋日本料理     597     60355    445   23   \n",
       "1                                     The Place     520     58751    260   76   \n",
       "2                      LAB EAT Restaurant & Bar     620     57442    475   31   \n",
       "3                            Market Hotpot 鮮入圍煮     320     49070    224   24   \n",
       "4                                        Sky726     594     46832    442   41   \n",
       "\n",
       "                                             address       district  \\\n",
       "0   Shop 102, 1/F, Albion Plaza, 2-6 Granville Road,  Tsim Sha Tsui   \n",
       "1  Level L, Cordis, Hong Kong at Langham Place, 5...       Mong Kok   \n",
       "2  Shop 1-2, G/F, Kiu Fung Mansion, 83-89 Kimberl...  Tsim Sha Tsui   \n",
       "3             2/F, Dundas Square, 43H Dundas Street,       Mong Kok   \n",
       "4                         25/F, 724-726 Nathan Road,       Mong Kok   \n",
       "\n",
       "         cuisine           dish  \n",
       "0       Japanese  Sushi/Sashimi  \n",
       "1  International        Seafood  \n",
       "2        Western        Seafood  \n",
       "3      Guangdong        Hot Pot  \n",
       "4         French        Dessert  "
      ]
     },
     "execution_count": 3,
     "metadata": {},
     "output_type": "execute_result"
    }
   ],
   "source": [
    "df.head()"
   ]
  },
  {
   "cell_type": "code",
   "execution_count": 4,
   "metadata": {},
   "outputs": [
    {
     "data": {
      "text/plain": [
       "27615"
      ]
     },
     "execution_count": 4,
     "metadata": {},
     "output_type": "execute_result"
    }
   ],
   "source": [
    "len(df)"
   ]
  },
  {
   "cell_type": "code",
   "execution_count": 5,
   "metadata": {},
   "outputs": [],
   "source": [
    "with open('all_restaurant.json') as f:\n",
    "    coordinate = json.load(f)"
   ]
  },
  {
   "cell_type": "code",
   "execution_count": 6,
   "metadata": {},
   "outputs": [],
   "source": [
    "coor_df = pd.DataFrame.from_dict(coordinate, orient='index')"
   ]
  },
  {
   "cell_type": "code",
   "execution_count": 7,
   "metadata": {},
   "outputs": [],
   "source": [
    "coor_df.index = coor_df.index.map(int)"
   ]
  },
  {
   "cell_type": "code",
   "execution_count": 8,
   "metadata": {},
   "outputs": [],
   "source": [
    "coor_df.sort_index(inplace=True)"
   ]
  },
  {
   "cell_type": "code",
   "execution_count": 9,
   "metadata": {},
   "outputs": [
    {
     "data": {
      "text/html": [
       "<div>\n",
       "<style scoped>\n",
       "    .dataframe tbody tr th:only-of-type {\n",
       "        vertical-align: middle;\n",
       "    }\n",
       "\n",
       "    .dataframe tbody tr th {\n",
       "        vertical-align: top;\n",
       "    }\n",
       "\n",
       "    .dataframe thead th {\n",
       "        text-align: right;\n",
       "    }\n",
       "</style>\n",
       "<table border=\"1\" class=\"dataframe\">\n",
       "  <thead>\n",
       "    <tr style=\"text-align: right;\">\n",
       "      <th></th>\n",
       "      <th>Northing</th>\n",
       "      <th>Easting</th>\n",
       "      <th>Longitude</th>\n",
       "      <th>Latitude</th>\n",
       "    </tr>\n",
       "  </thead>\n",
       "  <tbody>\n",
       "    <tr>\n",
       "      <th>0</th>\n",
       "      <td>817834</td>\n",
       "      <td>835831</td>\n",
       "      <td>114.1726</td>\n",
       "      <td>22.2994</td>\n",
       "    </tr>\n",
       "    <tr>\n",
       "      <th>1</th>\n",
       "      <td>819900</td>\n",
       "      <td>835365</td>\n",
       "      <td>114.1681</td>\n",
       "      <td>22.3181</td>\n",
       "    </tr>\n",
       "    <tr>\n",
       "      <th>2</th>\n",
       "      <td>818187</td>\n",
       "      <td>836120</td>\n",
       "      <td>114.1754</td>\n",
       "      <td>22.3026</td>\n",
       "    </tr>\n",
       "    <tr>\n",
       "      <th>3</th>\n",
       "      <td>819632</td>\n",
       "      <td>835676</td>\n",
       "      <td>114.1711</td>\n",
       "      <td>22.3156</td>\n",
       "    </tr>\n",
       "    <tr>\n",
       "      <th>4</th>\n",
       "      <td>820233</td>\n",
       "      <td>835429</td>\n",
       "      <td>114.1687</td>\n",
       "      <td>22.3211</td>\n",
       "    </tr>\n",
       "  </tbody>\n",
       "</table>\n",
       "</div>"
      ],
      "text/plain": [
       "  Northing Easting Longitude Latitude\n",
       "0   817834  835831  114.1726  22.2994\n",
       "1   819900  835365  114.1681  22.3181\n",
       "2   818187  836120  114.1754  22.3026\n",
       "3   819632  835676  114.1711  22.3156\n",
       "4   820233  835429  114.1687  22.3211"
      ]
     },
     "execution_count": 9,
     "metadata": {},
     "output_type": "execute_result"
    }
   ],
   "source": [
    "coor_df.head()"
   ]
  },
  {
   "cell_type": "code",
   "execution_count": 10,
   "metadata": {},
   "outputs": [],
   "source": [
    "final_df = pd.read_csv('parse.csv', index_col=0)"
   ]
  },
  {
   "cell_type": "code",
   "execution_count": 11,
   "metadata": {},
   "outputs": [],
   "source": [
    "final_df = pd.concat([coor_df,final_df])"
   ]
  },
  {
   "cell_type": "code",
   "execution_count": 12,
   "metadata": {},
   "outputs": [],
   "source": [
    "final_df.sort_index(inplace=True)"
   ]
  },
  {
   "cell_type": "code",
   "execution_count": 13,
   "metadata": {},
   "outputs": [],
   "source": [
    "final_df = pd.concat([df, final_df], axis = 1)"
   ]
  },
  {
   "cell_type": "code",
   "execution_count": 14,
   "metadata": {},
   "outputs": [],
   "source": [
    "final_df = final_df[['name', 'review', 'bookmark', 'smile', 'sad', 'address', 'district',\\\n",
    "       'cuisine', 'dish', 'Latitude','Longitude','Easting','Northing']]"
   ]
  },
  {
   "cell_type": "code",
   "execution_count": 15,
   "metadata": {},
   "outputs": [
    {
     "data": {
      "text/html": [
       "<div>\n",
       "<style scoped>\n",
       "    .dataframe tbody tr th:only-of-type {\n",
       "        vertical-align: middle;\n",
       "    }\n",
       "\n",
       "    .dataframe tbody tr th {\n",
       "        vertical-align: top;\n",
       "    }\n",
       "\n",
       "    .dataframe thead th {\n",
       "        text-align: right;\n",
       "    }\n",
       "</style>\n",
       "<table border=\"1\" class=\"dataframe\">\n",
       "  <thead>\n",
       "    <tr style=\"text-align: right;\">\n",
       "      <th></th>\n",
       "      <th>name</th>\n",
       "      <th>review</th>\n",
       "      <th>bookmark</th>\n",
       "      <th>smile</th>\n",
       "      <th>sad</th>\n",
       "      <th>address</th>\n",
       "      <th>district</th>\n",
       "      <th>cuisine</th>\n",
       "      <th>dish</th>\n",
       "      <th>Latitude</th>\n",
       "      <th>Longitude</th>\n",
       "      <th>Easting</th>\n",
       "      <th>Northing</th>\n",
       "    </tr>\n",
       "  </thead>\n",
       "  <tbody>\n",
       "    <tr>\n",
       "      <th>0</th>\n",
       "      <td>Deluxe Daikiya Japanese Restaurant 極尚大喜屋日本料理</td>\n",
       "      <td>597</td>\n",
       "      <td>60355</td>\n",
       "      <td>445</td>\n",
       "      <td>23</td>\n",
       "      <td>Shop 102, 1/F, Albion Plaza, 2-6 Granville Road,</td>\n",
       "      <td>Tsim Sha Tsui</td>\n",
       "      <td>Japanese</td>\n",
       "      <td>Sushi/Sashimi</td>\n",
       "      <td>22.2994</td>\n",
       "      <td>114.1726</td>\n",
       "      <td>835831</td>\n",
       "      <td>817834</td>\n",
       "    </tr>\n",
       "    <tr>\n",
       "      <th>1</th>\n",
       "      <td>The Place</td>\n",
       "      <td>520</td>\n",
       "      <td>58751</td>\n",
       "      <td>260</td>\n",
       "      <td>76</td>\n",
       "      <td>Level L, Cordis, Hong Kong at Langham Place, 5...</td>\n",
       "      <td>Mong Kok</td>\n",
       "      <td>International</td>\n",
       "      <td>Seafood</td>\n",
       "      <td>22.3181</td>\n",
       "      <td>114.1681</td>\n",
       "      <td>835365</td>\n",
       "      <td>819900</td>\n",
       "    </tr>\n",
       "    <tr>\n",
       "      <th>2</th>\n",
       "      <td>LAB EAT Restaurant &amp; Bar</td>\n",
       "      <td>620</td>\n",
       "      <td>57442</td>\n",
       "      <td>475</td>\n",
       "      <td>31</td>\n",
       "      <td>Shop 1-2, G/F, Kiu Fung Mansion, 83-89 Kimberl...</td>\n",
       "      <td>Tsim Sha Tsui</td>\n",
       "      <td>Western</td>\n",
       "      <td>Seafood</td>\n",
       "      <td>22.3026</td>\n",
       "      <td>114.1754</td>\n",
       "      <td>836120</td>\n",
       "      <td>818187</td>\n",
       "    </tr>\n",
       "    <tr>\n",
       "      <th>3</th>\n",
       "      <td>Market Hotpot 鮮入圍煮</td>\n",
       "      <td>320</td>\n",
       "      <td>49070</td>\n",
       "      <td>224</td>\n",
       "      <td>24</td>\n",
       "      <td>2/F, Dundas Square, 43H Dundas Street,</td>\n",
       "      <td>Mong Kok</td>\n",
       "      <td>Guangdong</td>\n",
       "      <td>Hot Pot</td>\n",
       "      <td>22.3156</td>\n",
       "      <td>114.1711</td>\n",
       "      <td>835676</td>\n",
       "      <td>819632</td>\n",
       "    </tr>\n",
       "    <tr>\n",
       "      <th>4</th>\n",
       "      <td>Sky726</td>\n",
       "      <td>594</td>\n",
       "      <td>46832</td>\n",
       "      <td>442</td>\n",
       "      <td>41</td>\n",
       "      <td>25/F, 724-726 Nathan Road,</td>\n",
       "      <td>Mong Kok</td>\n",
       "      <td>French</td>\n",
       "      <td>Dessert</td>\n",
       "      <td>22.3211</td>\n",
       "      <td>114.1687</td>\n",
       "      <td>835429</td>\n",
       "      <td>820233</td>\n",
       "    </tr>\n",
       "  </tbody>\n",
       "</table>\n",
       "</div>"
      ],
      "text/plain": [
       "                                           name  review  bookmark  smile  sad  \\\n",
       "0  Deluxe Daikiya Japanese Restaurant 極尚大喜屋日本料理     597     60355    445   23   \n",
       "1                                     The Place     520     58751    260   76   \n",
       "2                      LAB EAT Restaurant & Bar     620     57442    475   31   \n",
       "3                            Market Hotpot 鮮入圍煮     320     49070    224   24   \n",
       "4                                        Sky726     594     46832    442   41   \n",
       "\n",
       "                                             address       district  \\\n",
       "0   Shop 102, 1/F, Albion Plaza, 2-6 Granville Road,  Tsim Sha Tsui   \n",
       "1  Level L, Cordis, Hong Kong at Langham Place, 5...       Mong Kok   \n",
       "2  Shop 1-2, G/F, Kiu Fung Mansion, 83-89 Kimberl...  Tsim Sha Tsui   \n",
       "3             2/F, Dundas Square, 43H Dundas Street,       Mong Kok   \n",
       "4                         25/F, 724-726 Nathan Road,       Mong Kok   \n",
       "\n",
       "         cuisine           dish Latitude Longitude Easting Northing  \n",
       "0       Japanese  Sushi/Sashimi  22.2994  114.1726  835831   817834  \n",
       "1  International        Seafood  22.3181  114.1681  835365   819900  \n",
       "2        Western        Seafood  22.3026  114.1754  836120   818187  \n",
       "3      Guangdong        Hot Pot  22.3156  114.1711  835676   819632  \n",
       "4         French        Dessert  22.3211  114.1687  835429   820233  "
      ]
     },
     "execution_count": 15,
     "metadata": {},
     "output_type": "execute_result"
    }
   ],
   "source": [
    "final_df.head()"
   ]
  },
  {
   "cell_type": "code",
   "execution_count": 16,
   "metadata": {},
   "outputs": [],
   "source": [
    "# final_df.to_csv('restaurant_with_coordinate.csv')"
   ]
  },
  {
   "cell_type": "code",
   "execution_count": 17,
   "metadata": {},
   "outputs": [],
   "source": [
    "final_df['address'] = final_df['address'].map(lambda x : x.upper())"
   ]
  },
  {
   "cell_type": "code",
   "execution_count": 18,
   "metadata": {},
   "outputs": [
    {
     "data": {
      "text/html": [
       "<div>\n",
       "<style scoped>\n",
       "    .dataframe tbody tr th:only-of-type {\n",
       "        vertical-align: middle;\n",
       "    }\n",
       "\n",
       "    .dataframe tbody tr th {\n",
       "        vertical-align: top;\n",
       "    }\n",
       "\n",
       "    .dataframe thead th {\n",
       "        text-align: right;\n",
       "    }\n",
       "</style>\n",
       "<table border=\"1\" class=\"dataframe\">\n",
       "  <thead>\n",
       "    <tr style=\"text-align: right;\">\n",
       "      <th></th>\n",
       "      <th>name</th>\n",
       "      <th>review</th>\n",
       "      <th>bookmark</th>\n",
       "      <th>smile</th>\n",
       "      <th>sad</th>\n",
       "      <th>address</th>\n",
       "      <th>district</th>\n",
       "      <th>cuisine</th>\n",
       "      <th>dish</th>\n",
       "      <th>Latitude</th>\n",
       "      <th>Longitude</th>\n",
       "      <th>Easting</th>\n",
       "      <th>Northing</th>\n",
       "    </tr>\n",
       "  </thead>\n",
       "  <tbody>\n",
       "    <tr>\n",
       "      <th>0</th>\n",
       "      <td>Deluxe Daikiya Japanese Restaurant 極尚大喜屋日本料理</td>\n",
       "      <td>597</td>\n",
       "      <td>60355</td>\n",
       "      <td>445</td>\n",
       "      <td>23</td>\n",
       "      <td>SHOP 102, 1/F, ALBION PLAZA, 2-6 GRANVILLE ROAD,</td>\n",
       "      <td>Tsim Sha Tsui</td>\n",
       "      <td>Japanese</td>\n",
       "      <td>Sushi/Sashimi</td>\n",
       "      <td>22.2994</td>\n",
       "      <td>114.1726</td>\n",
       "      <td>835831</td>\n",
       "      <td>817834</td>\n",
       "    </tr>\n",
       "    <tr>\n",
       "      <th>1</th>\n",
       "      <td>The Place</td>\n",
       "      <td>520</td>\n",
       "      <td>58751</td>\n",
       "      <td>260</td>\n",
       "      <td>76</td>\n",
       "      <td>LEVEL L, CORDIS, HONG KONG AT LANGHAM PLACE, 5...</td>\n",
       "      <td>Mong Kok</td>\n",
       "      <td>International</td>\n",
       "      <td>Seafood</td>\n",
       "      <td>22.3181</td>\n",
       "      <td>114.1681</td>\n",
       "      <td>835365</td>\n",
       "      <td>819900</td>\n",
       "    </tr>\n",
       "    <tr>\n",
       "      <th>2</th>\n",
       "      <td>LAB EAT Restaurant &amp; Bar</td>\n",
       "      <td>620</td>\n",
       "      <td>57442</td>\n",
       "      <td>475</td>\n",
       "      <td>31</td>\n",
       "      <td>SHOP 1-2, G/F, KIU FUNG MANSION, 83-89 KIMBERL...</td>\n",
       "      <td>Tsim Sha Tsui</td>\n",
       "      <td>Western</td>\n",
       "      <td>Seafood</td>\n",
       "      <td>22.3026</td>\n",
       "      <td>114.1754</td>\n",
       "      <td>836120</td>\n",
       "      <td>818187</td>\n",
       "    </tr>\n",
       "    <tr>\n",
       "      <th>3</th>\n",
       "      <td>Market Hotpot 鮮入圍煮</td>\n",
       "      <td>320</td>\n",
       "      <td>49070</td>\n",
       "      <td>224</td>\n",
       "      <td>24</td>\n",
       "      <td>2/F, DUNDAS SQUARE, 43H DUNDAS STREET,</td>\n",
       "      <td>Mong Kok</td>\n",
       "      <td>Guangdong</td>\n",
       "      <td>Hot Pot</td>\n",
       "      <td>22.3156</td>\n",
       "      <td>114.1711</td>\n",
       "      <td>835676</td>\n",
       "      <td>819632</td>\n",
       "    </tr>\n",
       "    <tr>\n",
       "      <th>4</th>\n",
       "      <td>Sky726</td>\n",
       "      <td>594</td>\n",
       "      <td>46832</td>\n",
       "      <td>442</td>\n",
       "      <td>41</td>\n",
       "      <td>25/F, 724-726 NATHAN ROAD,</td>\n",
       "      <td>Mong Kok</td>\n",
       "      <td>French</td>\n",
       "      <td>Dessert</td>\n",
       "      <td>22.3211</td>\n",
       "      <td>114.1687</td>\n",
       "      <td>835429</td>\n",
       "      <td>820233</td>\n",
       "    </tr>\n",
       "  </tbody>\n",
       "</table>\n",
       "</div>"
      ],
      "text/plain": [
       "                                           name  review  bookmark  smile  sad  \\\n",
       "0  Deluxe Daikiya Japanese Restaurant 極尚大喜屋日本料理     597     60355    445   23   \n",
       "1                                     The Place     520     58751    260   76   \n",
       "2                      LAB EAT Restaurant & Bar     620     57442    475   31   \n",
       "3                            Market Hotpot 鮮入圍煮     320     49070    224   24   \n",
       "4                                        Sky726     594     46832    442   41   \n",
       "\n",
       "                                             address       district  \\\n",
       "0   SHOP 102, 1/F, ALBION PLAZA, 2-6 GRANVILLE ROAD,  Tsim Sha Tsui   \n",
       "1  LEVEL L, CORDIS, HONG KONG AT LANGHAM PLACE, 5...       Mong Kok   \n",
       "2  SHOP 1-2, G/F, KIU FUNG MANSION, 83-89 KIMBERL...  Tsim Sha Tsui   \n",
       "3             2/F, DUNDAS SQUARE, 43H DUNDAS STREET,       Mong Kok   \n",
       "4                         25/F, 724-726 NATHAN ROAD,       Mong Kok   \n",
       "\n",
       "         cuisine           dish Latitude Longitude Easting Northing  \n",
       "0       Japanese  Sushi/Sashimi  22.2994  114.1726  835831   817834  \n",
       "1  International        Seafood  22.3181  114.1681  835365   819900  \n",
       "2        Western        Seafood  22.3026  114.1754  836120   818187  \n",
       "3      Guangdong        Hot Pot  22.3156  114.1711  835676   819632  \n",
       "4         French        Dessert  22.3211  114.1687  835429   820233  "
      ]
     },
     "execution_count": 18,
     "metadata": {},
     "output_type": "execute_result"
    }
   ],
   "source": [
    "final_df.head()"
   ]
  },
  {
   "cell_type": "code",
   "execution_count": 19,
   "metadata": {},
   "outputs": [],
   "source": [
    "licence_df = pd.read_csv('licence', index_col=0)"
   ]
  },
  {
   "cell_type": "code",
   "execution_count": 20,
   "metadata": {},
   "outputs": [
    {
     "data": {
      "text/html": [
       "<div>\n",
       "<style scoped>\n",
       "    .dataframe tbody tr th:only-of-type {\n",
       "        vertical-align: middle;\n",
       "    }\n",
       "\n",
       "    .dataframe tbody tr th {\n",
       "        vertical-align: top;\n",
       "    }\n",
       "\n",
       "    .dataframe thead th {\n",
       "        text-align: right;\n",
       "    }\n",
       "</style>\n",
       "<table border=\"1\" class=\"dataframe\">\n",
       "  <thead>\n",
       "    <tr style=\"text-align: right;\">\n",
       "      <th></th>\n",
       "      <th>company_name</th>\n",
       "      <th>district</th>\n",
       "      <th>address</th>\n",
       "      <th>license_no</th>\n",
       "      <th>record_count</th>\n",
       "      <th>1</th>\n",
       "      <th>2</th>\n",
       "      <th>3</th>\n",
       "      <th>4</th>\n",
       "      <th>5</th>\n",
       "      <th>6</th>\n",
       "      <th>7</th>\n",
       "    </tr>\n",
       "  </thead>\n",
       "  <tbody>\n",
       "    <tr>\n",
       "      <th>0</th>\n",
       "      <td>( NO RECORD FOUND)</td>\n",
       "      <td>Kwai Tsing</td>\n",
       "      <td>SHOP 7, 1/F, EDGE, 30-34 KWAI WING ROAD, KWAI ...</td>\n",
       "      <td>38 91 803736</td>\n",
       "      <td>11597</td>\n",
       "      <td>NaN</td>\n",
       "      <td>NaN</td>\n",
       "      <td>NaN</td>\n",
       "      <td>NaN</td>\n",
       "      <td>NaN</td>\n",
       "      <td>NaN</td>\n",
       "      <td>NaN</td>\n",
       "    </tr>\n",
       "    <tr>\n",
       "      <th>1</th>\n",
       "      <td>( NO RECORD FOUND)</td>\n",
       "      <td>North</td>\n",
       "      <td>G/F, 12 SAN FUNG AVENUE, SHEUNG SHUI, NEW TERR...</td>\n",
       "      <td>38 96 802367</td>\n",
       "      <td>11597</td>\n",
       "      <td>NaN</td>\n",
       "      <td>NaN</td>\n",
       "      <td>NaN</td>\n",
       "      <td>NaN</td>\n",
       "      <td>NaN</td>\n",
       "      <td>NaN</td>\n",
       "      <td>NaN</td>\n",
       "    </tr>\n",
       "    <tr>\n",
       "      <th>2</th>\n",
       "      <td>( NO RECORD FOUND)</td>\n",
       "      <td>Sha Tin</td>\n",
       "      <td>SHOP 251, LEVEL 2, NEW TOWN PLAZA PHASE 1, SHA...</td>\n",
       "      <td>38 97 806658</td>\n",
       "      <td>11597</td>\n",
       "      <td>NaN</td>\n",
       "      <td>NaN</td>\n",
       "      <td>NaN</td>\n",
       "      <td>NaN</td>\n",
       "      <td>NaN</td>\n",
       "      <td>NaN</td>\n",
       "      <td>NaN</td>\n",
       "    </tr>\n",
       "    <tr>\n",
       "      <th>3</th>\n",
       "      <td>( NO RECORD FOUND)</td>\n",
       "      <td>Tai Po</td>\n",
       "      <td>SHOP NO. 204, 2/F, TAI WO PLAZA, 12 TAI WO ROA...</td>\n",
       "      <td>38 95 802953</td>\n",
       "      <td>11597</td>\n",
       "      <td>NaN</td>\n",
       "      <td>NaN</td>\n",
       "      <td>NaN</td>\n",
       "      <td>NaN</td>\n",
       "      <td>NaN</td>\n",
       "      <td>NaN</td>\n",
       "      <td>NaN</td>\n",
       "    </tr>\n",
       "    <tr>\n",
       "      <th>4</th>\n",
       "      <td>( NO RECORD FOUND)</td>\n",
       "      <td>Tuen Mun</td>\n",
       "      <td>SHOP L103A, LEVEL 1, LEUNG KING PLAZA, LEUNG K...</td>\n",
       "      <td>38 93 805000</td>\n",
       "      <td>11597</td>\n",
       "      <td>NaN</td>\n",
       "      <td>NaN</td>\n",
       "      <td>NaN</td>\n",
       "      <td>NaN</td>\n",
       "      <td>NaN</td>\n",
       "      <td>NaN</td>\n",
       "      <td>NaN</td>\n",
       "    </tr>\n",
       "  </tbody>\n",
       "</table>\n",
       "</div>"
      ],
      "text/plain": [
       "         company_name    district  \\\n",
       "0  ( NO RECORD FOUND)  Kwai Tsing   \n",
       "1  ( NO RECORD FOUND)       North   \n",
       "2  ( NO RECORD FOUND)     Sha Tin   \n",
       "3  ( NO RECORD FOUND)      Tai Po   \n",
       "4  ( NO RECORD FOUND)    Tuen Mun   \n",
       "\n",
       "                                             address    license_no  \\\n",
       "0  SHOP 7, 1/F, EDGE, 30-34 KWAI WING ROAD, KWAI ...  38 91 803736   \n",
       "1  G/F, 12 SAN FUNG AVENUE, SHEUNG SHUI, NEW TERR...  38 96 802367   \n",
       "2  SHOP 251, LEVEL 2, NEW TOWN PLAZA PHASE 1, SHA...  38 97 806658   \n",
       "3  SHOP NO. 204, 2/F, TAI WO PLAZA, 12 TAI WO ROA...  38 95 802953   \n",
       "4  SHOP L103A, LEVEL 1, LEUNG KING PLAZA, LEUNG K...  38 93 805000   \n",
       "\n",
       "   record_count   1   2   3   4   5   6   7  \n",
       "0         11597 NaN NaN NaN NaN NaN NaN NaN  \n",
       "1         11597 NaN NaN NaN NaN NaN NaN NaN  \n",
       "2         11597 NaN NaN NaN NaN NaN NaN NaN  \n",
       "3         11597 NaN NaN NaN NaN NaN NaN NaN  \n",
       "4         11597 NaN NaN NaN NaN NaN NaN NaN  "
      ]
     },
     "execution_count": 20,
     "metadata": {},
     "output_type": "execute_result"
    }
   ],
   "source": [
    "licence_df.head()"
   ]
  },
  {
   "cell_type": "code",
   "execution_count": 21,
   "metadata": {},
   "outputs": [
    {
     "data": {
      "text/html": [
       "<div>\n",
       "<style scoped>\n",
       "    .dataframe tbody tr th:only-of-type {\n",
       "        vertical-align: middle;\n",
       "    }\n",
       "\n",
       "    .dataframe tbody tr th {\n",
       "        vertical-align: top;\n",
       "    }\n",
       "\n",
       "    .dataframe thead th {\n",
       "        text-align: right;\n",
       "    }\n",
       "</style>\n",
       "<table border=\"1\" class=\"dataframe\">\n",
       "  <thead>\n",
       "    <tr style=\"text-align: right;\">\n",
       "      <th></th>\n",
       "      <th>name</th>\n",
       "      <th>review</th>\n",
       "      <th>bookmark</th>\n",
       "      <th>smile</th>\n",
       "      <th>sad</th>\n",
       "      <th>address</th>\n",
       "      <th>district_x</th>\n",
       "      <th>cuisine</th>\n",
       "      <th>dish</th>\n",
       "      <th>Latitude</th>\n",
       "      <th>...</th>\n",
       "      <th>district_y</th>\n",
       "      <th>license_no</th>\n",
       "      <th>record_count</th>\n",
       "      <th>1</th>\n",
       "      <th>2</th>\n",
       "      <th>3</th>\n",
       "      <th>4</th>\n",
       "      <th>5</th>\n",
       "      <th>6</th>\n",
       "      <th>7</th>\n",
       "    </tr>\n",
       "  </thead>\n",
       "  <tbody>\n",
       "  </tbody>\n",
       "</table>\n",
       "<p>0 rows × 24 columns</p>\n",
       "</div>"
      ],
      "text/plain": [
       "Empty DataFrame\n",
       "Columns: [name, review, bookmark, smile, sad, address, district_x, cuisine, dish, Latitude, Longitude, Easting, Northing, company_name, district_y, license_no, record_count, 1, 2, 3, 4, 5, 6, 7]\n",
       "Index: []\n",
       "\n",
       "[0 rows x 24 columns]"
      ]
     },
     "execution_count": 21,
     "metadata": {},
     "output_type": "execute_result"
    }
   ],
   "source": [
    "mergedStuff = pd.merge(final_df, licence_df, on=['address'], how='inner')\n",
    "mergedStuff.head()"
   ]
  },
  {
   "cell_type": "code",
   "execution_count": 99,
   "metadata": {},
   "outputs": [
    {
     "data": {
      "text/plain": [
       "array(['( NO RECORD FOUND)', '(no record found)', '(No record found)',\n",
       "       ..., '龍鳳冰室', '龍鳳店', '龍鳳廚坊'], dtype=object)"
      ]
     },
     "execution_count": 99,
     "metadata": {},
     "output_type": "execute_result"
    }
   ],
   "source": [
    "licence_df['company_name'].unique()"
   ]
  },
  {
   "cell_type": "code",
   "execution_count": 37,
   "metadata": {},
   "outputs": [
    {
     "data": {
      "text/html": [
       "<div>\n",
       "<style scoped>\n",
       "    .dataframe tbody tr th:only-of-type {\n",
       "        vertical-align: middle;\n",
       "    }\n",
       "\n",
       "    .dataframe tbody tr th {\n",
       "        vertical-align: top;\n",
       "    }\n",
       "\n",
       "    .dataframe thead th {\n",
       "        text-align: right;\n",
       "    }\n",
       "</style>\n",
       "<table border=\"1\" class=\"dataframe\">\n",
       "  <thead>\n",
       "    <tr style=\"text-align: right;\">\n",
       "      <th></th>\n",
       "      <th>name</th>\n",
       "      <th>review</th>\n",
       "      <th>bookmark</th>\n",
       "      <th>smile</th>\n",
       "      <th>sad</th>\n",
       "      <th>address</th>\n",
       "      <th>district</th>\n",
       "      <th>cuisine</th>\n",
       "      <th>dish</th>\n",
       "      <th>Latitude</th>\n",
       "      <th>Longitude</th>\n",
       "      <th>Easting</th>\n",
       "      <th>Northing</th>\n",
       "    </tr>\n",
       "  </thead>\n",
       "  <tbody>\n",
       "  </tbody>\n",
       "</table>\n",
       "</div>"
      ],
      "text/plain": [
       "Empty DataFrame\n",
       "Columns: [name, review, bookmark, smile, sad, address, district, cuisine, dish, Latitude, Longitude, Easting, Northing]\n",
       "Index: []"
      ]
     },
     "execution_count": 37,
     "metadata": {},
     "output_type": "execute_result"
    }
   ],
   "source": [
    "final_df[final_df['name'].str.contains('coffee')]"
   ]
  },
  {
   "cell_type": "code",
   "execution_count": 42,
   "metadata": {},
   "outputs": [
    {
     "data": {
      "text/plain": [
       "array(['Burgeroom', 'The Cheesecake Factory 芝樂坊餐廳'], dtype=object)"
      ]
     },
     "execution_count": 42,
     "metadata": {},
     "output_type": "execute_result"
    }
   ],
   "source": [
    "final_df[final_df['cuisine'] == 'American']['name'].unique()"
   ]
  },
  {
   "cell_type": "code",
   "execution_count": 48,
   "metadata": {},
   "outputs": [
    {
     "data": {
      "text/plain": [
       "74"
      ]
     },
     "execution_count": 48,
     "metadata": {},
     "output_type": "execute_result"
    }
   ],
   "source": [
    "len(final_df.drop_duplicates())"
   ]
  },
  {
   "cell_type": "code",
   "execution_count": null,
   "metadata": {},
   "outputs": [],
   "source": []
  }
 ],
 "metadata": {
  "kernelspec": {
   "display_name": "Python 3",
   "language": "python",
   "name": "python3"
  },
  "language_info": {
   "codemirror_mode": {
    "name": "ipython",
    "version": 3
   },
   "file_extension": ".py",
   "mimetype": "text/x-python",
   "name": "python",
   "nbconvert_exporter": "python",
   "pygments_lexer": "ipython3",
   "version": "3.6.4"
  }
 },
 "nbformat": 4,
 "nbformat_minor": 2
}
